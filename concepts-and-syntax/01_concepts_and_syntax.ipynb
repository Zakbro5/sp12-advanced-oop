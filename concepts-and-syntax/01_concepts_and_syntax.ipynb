{
 "cells": [
  {
   "cell_type": "markdown",
   "id": "503c86b3",
   "metadata": {},
   "source": [
    "\n",
    "# Syntax & Concepts: Advanced Object-Oriented Programming\n",
    "\n",
    "### Before Class:\n",
    "\n",
    "1. **Read this notebook and attempt each \"You Try\" section.**\n",
    "    - Need help? Check the AI tips or your textbook.\n",
    "\n",
    "2. **Complete at least one practice problem from this chapter.**\n",
    "    - Problems are ordered from easiest to hardest.\n",
    "    - Stuck? Copy and paste the instructions and AI prompt into your preferred AI service for guided help.\n",
    "\n",
    "3. **Submit your attempted practice problem code in the \"Class Prep Report\" on Learning Suite for credit.**\n",
    "\n",
    "#### Need more explanation? Copy and paste this AI prompt along with any code you have questions about:\n",
    "(Double-click the text below, then copy and paste it into your AI service.)\n",
    "\n",
    "```\n",
    "I am new to Python and just starting to learn coding. I need simple, clear explanations. When I ask a question or show my code, act like my personal tutor: correct mistakes gently, clarify misconceptions, and use easy-to-follow language. Feel free to use examples or metaphors to help me understand. Let me know when I'm doing well or what I need to adjust.\n",
    "```\n"
   ]
  },
  {
   "cell_type": "markdown",
   "id": "6473f7df",
   "metadata": {},
   "source": [
    "\n",
    "### Chapter Summary\n",
    "\n",
    "This chapter builds on your understanding of OOP by introducing more advanced patterns and tools:\n",
    "\n",
    "- **Aggregation**: A \"has-a\" relationship where one object holds a reference to another.\n",
    "- **Composition**: A \"has-a\" relationship where one object *owns* another object.\n",
    "- **Inheritance**: A way to create new classes based on existing ones.\n",
    "- **Overriding Methods**: Redefining a method in a subclass to change or extend behavior.\n",
    "- **Private Variables**: Using double underscores (e.g., `__balance`) to indicate internal-only variables.\n",
    "- **Getters and Setters**: Methods used to access and update private variables safely.\n"
   ]
  },
  {
   "cell_type": "markdown",
   "id": "4f722dfd",
   "metadata": {},
   "source": [
    "## 1: Aggregation\n",
    "One object holds a reference to another, but doesn’t control its lifecycle."
   ]
  },
  {
   "cell_type": "code",
   "execution_count": null,
   "id": "80da728e",
   "metadata": {},
   "outputs": [],
   "source": [
    "class Engine:\n",
    "    def __init__(self, horsepower):\n",
    "        self.horsepower = horsepower\n",
    "\n",
    "class Car:\n",
    "    def __init__(self, brand, engine):\n",
    "        self.brand = brand\n",
    "        self.engine = engine\n",
    "\n",
    "e = Engine(300)\n",
    "c = Car(\"Toyota\", e) # here we put an Engine object inside the Car object\n",
    "print(c.engine.horsepower)"
   ]
  },
  {
   "cell_type": "markdown",
   "id": "83648bce",
   "metadata": {},
   "source": [
    "### 1.p: You Try\n",
    "Create a `Battery` class and a `Phone` class. The phone should accept a battery object in its constructor and print the battery’s capacity."
   ]
  },
  {
   "cell_type": "code",
   "execution_count": 1,
   "id": "3067a504",
   "metadata": {},
   "outputs": [
    {
     "name": "stdout",
     "output_type": "stream",
     "text": [
      "Phone Battery Capacity: 100\n"
     ]
    }
   ],
   "source": [
    "# Your code here\n",
    "class Battery:\n",
    "    def __init__(self, capacity):\n",
    "        self.capacity = capacity\n",
    "\n",
    "class Phone:\n",
    "    def __init__(self, battery):\n",
    "        self.battery = battery\n",
    "        print(f\"Phone Battery Capacity: {self.battery.capacity}\")\n",
    "\n",
    "my_battery = Battery(100)\n",
    "my_phone = Phone(my_battery)\n",
    "\n"
   ]
  },
  {
   "cell_type": "markdown",
   "id": "82ad191f",
   "metadata": {},
   "source": [
    "## 2: Composition\n",
    "One object creates and owns another object. It controls its lifecycle."
   ]
  },
  {
   "cell_type": "code",
   "execution_count": 2,
   "id": "84c42640",
   "metadata": {},
   "outputs": [
    {
     "name": "stdout",
     "output_type": "stream",
     "text": [
      "6 inches\n"
     ]
    }
   ],
   "source": [
    "class Screen:\n",
    "    def __init__(self):\n",
    "        self.size = \"6 inches\"\n",
    "\n",
    "class Tablet:\n",
    "    def __init__(self):\n",
    "        self.screen = Screen()\n",
    "\n",
    "t = Tablet()\n",
    "print(t.screen.size)"
   ]
  },
  {
   "cell_type": "markdown",
   "id": "5ff50326",
   "metadata": {},
   "source": [
    "### 2.p: You Try\n",
    "Create a `Keyboard` class and a `Laptop` class. The `Laptop` class should create and store a `Keyboard` inside it."
   ]
  },
  {
   "cell_type": "code",
   "execution_count": null,
   "id": "2d13977d",
   "metadata": {},
   "outputs": [],
   "source": []
  },
  {
   "cell_type": "code",
   "execution_count": null,
   "id": "2eece0cf",
   "metadata": {},
   "outputs": [
    {
     "name": "stdout",
     "output_type": "stream",
     "text": [
      "Apple\n"
     ]
    }
   ],
   "source": [
    "# Your code here\n",
    "class Keyboard:\n",
    "    def __init__(self):\n",
    "        self.brand = \"Apple\"\n",
    "\n",
    "class Laptop:\n",
    "    def __init__(self):\n",
    "        self.keyboard = Keyboard()\n",
    "\n",
    "k = Laptop()\n",
    "print(k.keyboard.brand)\n"
   ]
  },
  {
   "cell_type": "markdown",
   "id": "70e39fa9",
   "metadata": {},
   "source": [
    "## 3: Inheritance and Method Overriding\n",
    "A subclass can inherit from a parent class and override its methods."
   ]
  },
  {
   "cell_type": "code",
   "execution_count": 6,
   "id": "93a092bb",
   "metadata": {},
   "outputs": [
    {
     "name": "stdout",
     "output_type": "stream",
     "text": [
      "Managing the team.\n"
     ]
    }
   ],
   "source": [
    "class Employee:\n",
    "    def work(self):\n",
    "        print(\"Working...\")\n",
    "\n",
    "class Manager(Employee):\n",
    "    def work(self):\n",
    "        print(\"Managing the team.\")\n",
    "\n",
    "m = Manager()\n",
    "m.work()"
   ]
  },
  {
   "cell_type": "markdown",
   "id": "796485e4",
   "metadata": {},
   "source": [
    "### 3.p: You Try\n",
    "Create a base class `Animal` with a method `speak()`. Create a subclass `Dog` that overrides `speak()` with a custom message."
   ]
  },
  {
   "cell_type": "code",
   "execution_count": 7,
   "id": "72f4e2d7",
   "metadata": {},
   "outputs": [
    {
     "name": "stdout",
     "output_type": "stream",
     "text": [
      "Woof!\n"
     ]
    }
   ],
   "source": [
    "# Your code here\n",
    "class Animal:\n",
    "    def speak(self):\n",
    "        print(\"makes a sound\")\n",
    "\n",
    "class Dog:\n",
    "    def speak(self):\n",
    "        print(\"Woof!\")\n",
    "\n",
    "my_dog = Dog()\n",
    "my_dog.speak()"
   ]
  },
  {
   "cell_type": "markdown",
   "id": "e96fd211",
   "metadata": {},
   "source": [
    "## 4: Private Variables\n",
    "Variables with double underscores (e.g., `__balance`) are meant to be internal to the class."
   ]
  },
  {
   "cell_type": "code",
   "execution_count": null,
   "id": "fb3000f8",
   "metadata": {},
   "outputs": [],
   "source": [
    "class BankAccount:\n",
    "    def __init__(self):\n",
    "        self.__balance = 0\n",
    "\n",
    "acct = BankAccount()\n",
    "# print(acct.__balance)  # This would raise an error"
   ]
  },
  {
   "cell_type": "markdown",
   "id": "d8693b5a",
   "metadata": {},
   "source": [
    "### 4.p: You Try\n",
    "Create a `User` class with a private variable `__password`. Try printing it directly to see what happens."
   ]
  },
  {
   "cell_type": "code",
   "execution_count": 8,
   "id": "e5a10dd9",
   "metadata": {},
   "outputs": [
    {
     "name": "stdout",
     "output_type": "stream",
     "text": [
      "12345\n"
     ]
    }
   ],
   "source": [
    "# Your code here\n",
    "class User:\n",
    "    def __init__(self):\n",
    "        self.__password = 12345\n",
    "        print(self.__password)\n",
    "\n",
    "my_password = User()"
   ]
  },
  {
   "cell_type": "markdown",
   "id": "daa72af0",
   "metadata": {},
   "source": [
    "## 5: Getters and Setters\n",
    "Use methods to access or update private variables safely."
   ]
  },
  {
   "cell_type": "code",
   "execution_count": null,
   "id": "36798238",
   "metadata": {},
   "outputs": [],
   "source": [
    "class Product:\n",
    "    def __init__(self):\n",
    "        self.__price = 0\n",
    "\n",
    "    def get_price(self):\n",
    "        return self.__price\n",
    "\n",
    "    def set_price(self, value):\n",
    "        if value >= 0:\n",
    "            self.__price = value\n",
    "\n",
    "p = Product()\n",
    "p.set_price(25)\n",
    "print(p.get_price())"
   ]
  },
  {
   "cell_type": "markdown",
   "id": "ef67966c",
   "metadata": {},
   "source": [
    "### 5.p: You Try\n",
    "Create a `Profile` class with a private variable `__email`. Add a getter and setter for it. Make sure the setter checks that the email contains `@`."
   ]
  },
  {
   "cell_type": "code",
   "execution_count": null,
   "id": "81a66e3a",
   "metadata": {},
   "outputs": [],
   "source": [
    "# Your code here\n",
    "class Profile:\n",
    "    def __init__(self):\n",
    "        self.__email = \"0\"\n",
    "\n",
    "    def get_email(self):\n",
    "        return self.__email\n",
    "    \n",
    "    def set_email(self, )\n",
    "\n",
    "\n",
    "\n",
    "\n",
    "\n"
   ]
  },
  {
   "cell_type": "markdown",
   "id": "37276664",
   "metadata": {},
   "source": [
    "\n",
    "## Want to Learn More?\n",
    "\n",
    "If you'd like extra help or more details, you can:\n",
    "- **Ask AI**: Use the suggested questions in the `review_with_ai` file.\n",
    "- **Read your textbook**: Check the reading guide on Learning Suite beforehand.\n",
    "- **Review class practice files**: They contain more detailed examples and explanations, available on Learning Suite.\n"
   ]
  }
 ],
 "metadata": {
  "kernelspec": {
   "display_name": "Python 3",
   "language": "python",
   "name": "python3"
  },
  "language_info": {
   "codemirror_mode": {
    "name": "ipython",
    "version": 3
   },
   "file_extension": ".py",
   "mimetype": "text/x-python",
   "name": "python",
   "nbconvert_exporter": "python",
   "pygments_lexer": "ipython3",
   "version": "3.13.7"
  }
 },
 "nbformat": 4,
 "nbformat_minor": 5
}
